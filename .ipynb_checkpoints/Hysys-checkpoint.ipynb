{
 "cells": [
  {
   "cell_type": "code",
   "execution_count": 7,
   "metadata": {},
   "outputs": [],
   "source": [
    "import os\n",
    "import win32com.client as win32\n",
    "\n",
    "def hy_Dist_Col_Object(Problem, *varargin):\n",
    "    hy_filename = Problem.hy_filename\n",
    "    hy_best_model_filename = Problem.hy_best_model_filename\n",
    "    hy_visible = Problem.hy_visible\n",
    "\n",
    "    # 01  Full path to Aspen Hysys File & Best Solution Hysys File\n",
    "\n",
    "    hyFilePath = os.path.abspath(hy_filename)\n",
    "    hy_beswt_solution_FilePath = os.path.abspath(hy_best_model_filename)\n",
    "\n",
    "    # 02 Initialize  Aspen Hysys application\n",
    "    print(' # Connecting to the Aspen Hysys App ... ')\n",
    "    HyApp = win32.dynamic.Dispatch('HYSYS.Application')\n",
    "\n",
    "    # 03 Open Aspen Hysys File\n",
    "    #    HyCase = HyApp.SimulationCases.Open(hyFilePath)\n",
    "\n",
    "    HyCase = HyApp.ActiveDocument\n",
    "\n",
    "    # 04 Aspen Hysys Environment Visible\n",
    "    HyCase.Visible = hy_visible\n",
    "\n",
    "    # 05 Aspen Hysys File Name\n",
    "    HySysFile = HyCase.Title.Value\n",
    "    print(' ')\n",
    "    print('HySys File: ----------  ', HySysFile)\n",
    "\n",
    "    # 06 Aspen Hysys Fluid Package Name\n",
    "    package_name = HyCase.Flowsheet.FluidPackage.PropertyPackageName\n",
    "    print('HySys Fluid Package: ---  ', package_name)\n",
    "    print(' ')\n",
    "\n",
    "    ### Access to Main Aspen Hysys Objects #########################################\n",
    "    # -----------------------------------------------------------------------------\n",
    "\n",
    "    # 07 Main Aspen Hysys Document Objects\n",
    "    HySolver = HyCase.Solver  # Access to Hysys Solver\n",
    "    #    HyFlowsheet       = HyCase.Flowsheet                   # Access to main Flowsheet\n",
    "    HyOperations = HyCase.Flowsheet.Operations  # Access to the Unit Operations\n",
    "    HyMaterialStream = HyCase.Flowsheet.MaterialStreams  # Access to the material streams\n",
    "    HyEnergyStream = HyCase.Flowsheet.EnergyStreams  # Access to the energy streams\n",
    "\n",
    "    # 08 Access to Distillation Column Environment\n",
    "\n",
    "    #   Interfacing with the Aspen Hysys Objects needed to compute the Total\n",
    "    #   Annual Cost of the Conventional Distillation Column #\n",
    "\n",
    "    # 08.1 Access to Hysys Distillation Column and Column  Flowsheet\n",
    "    Column_Name = HyOperations.Names[0]\n",
    "\n",
    "    class DistColumn:\n",
    "        pass\n",
    "\n",
    "    DistColumn.Column = HyOperations.Item(Column_Name)\n",
    "    DistColumn.ColumnFlowsheet = DistColumn.Column.ColumnFlowsheet\n",
    "\n",
    "    # 08.1.1 Access to Column  objects\n",
    "    DistColumn.Specifications = DistColumn.ColumnFlowsheet.Specifications  # RR/BR/....\n",
    "    DistColumn.Operations = DistColumn.ColumnFlowsheet.Operations  # Main TS/Reboiler/Condenser\n",
    "    DistColumn.FeedStreams = DistColumn.ColumnFlowsheet.FeedStreams  # Access to Feed Streams (material and energy) for the Column Environment (Main TS, Reboiler y Condenser)\n",
    "\n",
    "    # 08.1.1.1  Access  to Main TS of the distillation column (Column Environment)\n",
    "    DistColumn.Main_TS = DistColumn.ColumnFlowsheet.Operations.Item(\n",
    "        'Main TS')  # Access to Main TS in Column Environment\n",
    "\n",
    "    # 08.1.1.2 Access to Feed stream object of the Main Tray Section\n",
    "    DistColumn.FeedMainTS = DistColumn.FeedStreams.Item('Feed')\n",
    "\n",
    "    # 08.2. Material Streams\n",
    "    class MaterialStream:\n",
    "        pass\n",
    "\n",
    "    MaterialStream.Distillate = HyMaterialStream.Item('Distillate')\n",
    "    MaterialStream.Bottoms = HyMaterialStream.Item('Bottoms')\n",
    "\n",
    "    # 08.3. Energy Streams\n",
    "    class EnergyStream:\n",
    "        pass\n",
    "\n",
    "    EnergyStream.Qreb = HyEnergyStream.Item('Qreb')\n",
    "    EnergyStream.Qcond = HyEnergyStream.Item('Qcond')\n",
    "\n",
    "    # 09 ...: HYSYS OBJECTS :...\n",
    "    class HyObject:\n",
    "        pass\n",
    "\n",
    "    HyObject.HyApp = HyApp\n",
    "    HyObject.HyCase = HyCase\n",
    "    HyObject.DistColumn = DistColumn\n",
    "    HyObject.MaterialStream = MaterialStream\n",
    "    HyObject.EnergyStream = EnergyStream\n",
    "    HyObject.HySolver = HySolver\n",
    "    HyObject.CDC_model_Root = hy_beswt_solution_FilePath  # Full   Path to Best Solution Aspen Hysys file\n",
    "    HyObject.folder_paht = hy_beswt_solution_FilePath[0:-len(hy_best_model_filename)]  # Folder Path\n",
    "\n",
    "    print('# Aspen Hysys - Python Interface has been Established....')\n",
    "    return (HyObject)"
   ]
  },
  {
   "cell_type": "code",
   "execution_count": 10,
   "metadata": {},
   "outputs": [
    {
     "name": "stdout",
     "output_type": "stream",
     "text": [
      " # Connecting to the Aspen Hysys App ... \n",
      " \n",
      "HySys File: ----------   Test_Column.hsc\n",
      "HySys Fluid Package: ---   NRTL - Ideal\n",
      " \n",
      "# Aspen Hysys - Python Interface has been Established....\n",
      "101.32499658281449\n",
      "Feed\n"
     ]
    }
   ],
   "source": [
    "class Problem:\n",
    "    hy_filename = \"Test_Column.hsc\"\n",
    "    hy_best_model_filename = \"Best_column.hsc\"\n",
    "    hy_visible = 1\n",
    "    pass\n",
    "\n",
    "\n",
    "HyObject = hy_Dist_Col_Object(Problem)\n",
    "print(HyObject.DistColumn.Main_TS.TopStagePressure)\n",
    "print(HyObject.DistColumn.FeedMainTS)\n"
   ]
  },
  {
   "cell_type": "code",
   "execution_count": 9,
   "metadata": {},
   "outputs": [
    {
     "data": {
      "text/plain": [
       "<COMObject Item>"
      ]
     },
     "execution_count": 9,
     "metadata": {},
     "output_type": "execute_result"
    }
   ],
   "source": [
    "HyObject.DistColumn.Main_TS"
   ]
  },
  {
   "cell_type": "code",
   "execution_count": null,
   "metadata": {},
   "outputs": [],
   "source": []
  }
 ],
 "metadata": {
  "kernelspec": {
   "display_name": "Python 3",
   "language": "python",
   "name": "python3"
  },
  "language_info": {
   "codemirror_mode": {
    "name": "ipython",
    "version": 3
   },
   "file_extension": ".py",
   "mimetype": "text/x-python",
   "name": "python",
   "nbconvert_exporter": "python",
   "pygments_lexer": "ipython3",
   "version": "3.7.0"
  }
 },
 "nbformat": 4,
 "nbformat_minor": 2
}
